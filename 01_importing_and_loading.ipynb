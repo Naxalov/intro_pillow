{
 "cells": [
  {
   "cell_type": "markdown",
   "metadata": {},
   "source": [
    "# Importing and Loading Images using Pillow library\n",
    "\n",
    "## Introduction\n",
    "In this notebook, we will learn how to import and load images using Pillow library. We will also learn how to convert images into numpy arrays and vice-versa.\n",
    "\n",
    "## Table of Contents\n",
    "1. Importing Libraries\n",
    "2. Importing Images\n",
    "3. Loading Images\n",
    "4. Converting Images to Numpy Arrays\n",
    "5. Converting Numpy Arrays to Images\n",
    "6. Conclusion\n"
   ]
  },
  {
   "cell_type": "markdown",
   "metadata": {},
   "source": []
  }
 ],
 "metadata": {
  "language_info": {
   "name": "python"
  },
  "orig_nbformat": 4
 },
 "nbformat": 4,
 "nbformat_minor": 2
}
