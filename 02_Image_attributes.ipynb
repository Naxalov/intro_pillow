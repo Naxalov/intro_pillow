{
 "cells": [
  {
   "cell_type": "markdown",
   "metadata": {},
   "source": [
    "# Image Attributes of the Pillow library\n",
    "## Introduction\n",
    "The Image attributes of image objects in Pillow are used to retrieve information about an image. The attributes are image format, size, mode, and pixel information. The attributes are accessed using the dot notation, for example, image.format. The attributes are read-only, and an attempt to change them raises an AttributeError exception.\n",
    "\n"
   ]
  },
  {
   "cell_type": "code",
   "execution_count": 1,
   "metadata": {},
   "outputs": [],
   "source": [
    "from PIL import Image\n",
    "import matplotlib.pyplot as plt"
   ]
  },
  {
   "cell_type": "code",
   "execution_count": 5,
   "metadata": {},
   "outputs": [
    {
     "name": "stdout",
     "output_type": "stream",
     "text": [
      "kitten.jpg\n",
      "JPEG\n",
      "(1024, 576)\n",
      "RGB\n"
     ]
    }
   ],
   "source": [
    "img = Image.open('kitten.jpg')\n",
    "# Get the file name of the image\n",
    "print(img.filename)\n",
    "# Get the format of the image\n",
    "print(img.format)\n",
    "# Get the size of the image\n",
    "print(img.size)\n",
    "# Get the mode of the image\n",
    "print(img.mode)\n",
    "\n"
   ]
  },
  {
   "cell_type": "code",
   "execution_count": null,
   "metadata": {},
   "outputs": [],
   "source": []
  }
 ],
 "metadata": {
  "kernelspec": {
   "display_name": "venv",
   "language": "python",
   "name": "python3"
  },
  "language_info": {
   "codemirror_mode": {
    "name": "ipython",
    "version": 3
   },
   "file_extension": ".py",
   "mimetype": "text/x-python",
   "name": "python",
   "nbconvert_exporter": "python",
   "pygments_lexer": "ipython3",
   "version": "3.9.1"
  },
  "orig_nbformat": 4
 },
 "nbformat": 4,
 "nbformat_minor": 2
}
